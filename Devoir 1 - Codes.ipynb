{
 "cells": [
  {
   "cell_type": "code",
   "execution_count": 121,
   "id": "175bfdcb",
   "metadata": {},
   "outputs": [],
   "source": [
    "# DEVOIR 1 - Codes (Version 2)\n",
    "import numpy as np\n",
    "import pandas as pd\n",
    "import matplotlib.pyplot as plt\n",
    "import seaborn as sns\n",
    "\n",
    "from sklearn.model_selection import train_test_split\n",
    "from pyclustering.cluster.kmedoids import kmedoids\n",
    "from sklearn.cluster import AgglomerativeClustering\n",
    "from sklearn.decomposition import KernelPCA\n",
    "from sklearn.manifold import Isomap\n",
    "from sklearn.neighbors import KNeighborsClassifier\n",
    "sns.set(rc={'figure.figsize':(12,8)})\n",
    "\n",
    "from skimage.morphology import skeletonize\n",
    "from skimage.transform import hough_line, hough_line_peaks, hough_circle, hough_circle_peaks"
   ]
  },
  {
   "cell_type": "code",
   "execution_count": 122,
   "id": "57815f0b",
   "metadata": {},
   "outputs": [],
   "source": [
    "#########################################################\n",
    "###################   ALGORITHMES  ######################\n",
    "#########################################################\n",
    "\n",
    "# Fonction qui permet de calculer l'exactitude de l'algorithme (en %)\n",
    "# Fonction de perte utilisée: erreur 0-1\n",
    "\n",
    "# y1: y_train\n",
    "# y2: y_valid ou y_test\n",
    "# y_hat1: prédictions de y_train\n",
    "# y_hat2: prédictions de y_test\n",
    "\n",
    "# Retourne: un tuple contenant la précision sur les données d'entraînement\n",
    "# ainsi que la précision sur les données de validation/de test\n",
    "def calculate_accuracy(y1, y2, y_hat1, y_hat2):\n",
    "    error_1 = 0.0\n",
    "    error_2 = 0.0\n",
    "    \n",
    "    # Erreur d'entraînement\n",
    "    for i in range(len(y1)):\n",
    "        if y1[i] != y_hat1[i]:\n",
    "            error_1 = error_1 + 1.0\n",
    "        \n",
    "    error_1 = (error_1 / len(y1))*100\n",
    "    \n",
    "    # Erreur de validation/de test\n",
    "    for i in range(len(y2)):\n",
    "        if y2[i] != y_hat2[i]:\n",
    "            error_2 = error_2 + 1.0\n",
    "    \n",
    "    error_2 = (error_2 / len(y2))*100\n",
    "    \n",
    "    return(100-error_1, 100-error_2)"
   ]
  },
  {
   "cell_type": "code",
   "execution_count": 1,
   "id": "7f8dca7e",
   "metadata": {},
   "outputs": [],
   "source": [
    "# Mesures de similarité\n",
    "\n",
    "# Distance euclidienne (TP4)\n",
    "def l2(x, y):\n",
    "    return np.sum(abs(x - y) ** 2) ** (1/2)\n",
    "\n",
    "\n",
    "# Similarité MNIST\n",
    "\n",
    "# Alpha: Détermine le poids accordé à la détection de lignes versus la détection de cercles\n",
    "# i.e. distance totale = alpha * distance_lignes + (1-alpha) * distance_cercles\n",
    "\n",
    "# Nb_angles: Nombre d'angles testés pour la détection de lignes\n",
    "# Un nombre trop grand d'angles peut détecter de fausses lignes, mais\n",
    "# un nombre trop petit d'angles peut ne pas détecter des lignes importantes\n",
    "\n",
    "# Tested_R: Rayons de cercles testés lors de la recherche de cercles\n",
    "# Inclure des cercles trop petits peut nuire l'algorithme en négligeant les plus grands cercles\n",
    "# moins complets que les petits cercles\n",
    "def dissimilarity_mnist(x, y, alpha=0.5, nb_angles = 180, tested_R = [2,3,4,5,6,7,8,9,10]):\n",
    "    \n",
    "    # Réduire l'image à son squelette (segment d'épaisseur 1)\n",
    "    img1 = skeletonize(x.reshape((28,28)))\n",
    "    img2 = skeletonize(y.reshape((28,28)))  \n",
    "    \n",
    "    # Détection de lignes, avec l'accumulateur des lignes stockés dans h1 et h2\n",
    "    tested_angles = np.linspace(-np.pi / 2, np.pi / 2, nb_angles, endpoint=False)    \n",
    "    h1, theta1, d1 = hough_line(img1, theta = tested_angles) \n",
    "    h2, theta2, d2 = hough_line(img2, theta = tested_angles)    \n",
    "    \n",
    "    # Détection de cercles, avec l'accumulateur des cercles dans H1_c et H2_c\n",
    "    H1_c = hough_circle(img1, tested_R)\n",
    "    H2_c = hough_circle(img2, tested_R)\n",
    "    \n",
    "    # Normaliser les valeurs entre 0 et 255\n",
    "    h1 *= int(255.0/h1.max())\n",
    "    h2 *= int(255.0/h2.max())\n",
    "    \n",
    "    H1_c *= int(255.0/H1_c.max())\n",
    "    H2_c *= int(255.0/H2_c.max())\n",
    "    \n",
    "    return alpha * l2(h1.astype(np.int64),h2.astype(np.int64)) + (1-alpha) * l2(H1_c.astype(np.int64), H2_c.astype(np.int64))\n",
    "\n",
    "# Similarité ADULT\n",
    "\n",
    "# Weight: ajuste les calculs de similarité pour chaque attribut en\n",
    "# ajoutant ou enlevant plus de poids dépendant la situation.\n",
    "\n",
    "# Alpha: calcul de similarité entre deux individus pour chaque attribut\n",
    "# Pour un attribut catégorique: 0 ou 1\n",
    "# Pour un attribut numérique: [0,1]\n",
    "\n",
    "# Epsilon: Le threshold (seuil) pour déterminer la valeur d'alpha numérique\n",
    "# Notez que lorsque epsilon = 0, cela indique que c'est un attribut catégorique.\n",
    "\n",
    "def dissimilarity_adult(array_1, array_2):\n",
    "    weight = np.array([1,2,0,0,1.5,0.5,2,0.5,1,0.75,0,0,1.5,1])\n",
    "    epsilon = np.array([10,0,0,0,5,0,0,0,0,0,0,0,10,0])\n",
    "    dissimilarity = 0\n",
    "\n",
    "    for i in range(weight.shape[0]):\n",
    "        alpha = 0\n",
    "        if epsilon[i] == 0:\n",
    "            # Lorsque les deux catégories sont différents\n",
    "            if array_1[i] != array_2[i]:\n",
    "                alpha = 1\n",
    "                dissimilarity = dissimilarity + weight[i] * alpha\n",
    "        else:\n",
    "            difference = abs(array_1[i] - array_2[i])\n",
    "            # Lorsque la différence dépasse le seuil\n",
    "            if difference < epsilon[i]:\n",
    "                alpha = float(difference)/epsilon[i]\n",
    "            else:\n",
    "                alpha = 1\n",
    "            dissimilarity = dissimilarity + weight[i] * alpha\n",
    "                \n",
    "                \n",
    "    return dissimilarity\n",
    "\n",
    "# Matrice de dissimilarité\n",
    "def get_dissimilarity_matrix(dist, X, Y):\n",
    "    diss_matrix = np.zeros((X.shape[0], Y.shape[0]))\n",
    "    \n",
    "    for i in range(X.shape[0]):\n",
    "        for j in range(Y.shape[0]):\n",
    "            diss_matrix[i,j] = dist(X[i], Y[j])\n",
    "            \n",
    "        if (i + 1) % 500 == 0:\n",
    "            print(f'Itération {i + 1} terminée!') \n",
    "        if (i + 1) == X.shape[0]:\n",
    "            print(f'Fin du calcul de la matrice')\n",
    "            \n",
    "    return diss_matrix\n",
    "\n",
    "# Génération de la matrice de dissimilarité\n",
    "\n",
    "# x et y: les features d'entraînement/de validation/de test\n",
    "def generate_matrix(dist, X, Y=None):\n",
    "    Y = X if Y is None else Y\n",
    "    diss_matrix = get_dissimilarity_matrix(dist, X, Y)\n",
    "    print(f'Dimension de la matrice: {diss_matrix.shape}')\n",
    "    return diss_matrix"
   ]
  },
  {
   "cell_type": "code",
   "execution_count": 124,
   "id": "a96cab36",
   "metadata": {},
   "outputs": [
    {
     "name": "stdout",
     "output_type": "stream",
     "text": [
      "(6000, 14)\n",
      "(5000, 14)\n",
      "(1000, 14)\n",
      "(1000, 14)\n"
     ]
    }
   ],
   "source": [
    "#########################################################\n",
    "#######################   ADULT  ########################\n",
    "#########################################################\n",
    "\n",
    "# NOTE: Pour MNIST, on compare la précision avec la distance euclidienne. Étant\n",
    "# donné que ADULT contient des données catégorielles, nous avons décidé de comparer\n",
    "# notre performance des cinq algorithmes avec la précision obtenue dans la démo 2\n",
    "# qui est environ de 81,0% de précision par kNN.\n",
    "\n",
    "adult = pd.read_csv(\"adult.csv\")\n",
    "# On enlève les rangées avec les données manquantes. On travaille avec les données\n",
    "# avec aucun point d'interrogation.\n",
    "adult = adult[(adult != '?').all(axis = 1)]\n",
    "\n",
    "# Échantillonnage des données ADULT\n",
    "\n",
    "n_total = 7000\n",
    "adult = adult.head(n_total)\n",
    "y = adult['income']\n",
    "adult = adult.drop(['income'], axis = 1)\n",
    "\n",
    "x_trainval, x_test, y_trainval, y_test = train_test_split(adult, y, test_size = (1/7), stratify=y, random_state=0)\n",
    "x_train, x_valid, y_train, y_valid = train_test_split(x_trainval, y_trainval, test_size = (1/6), random_state=0)\n",
    "\n",
    "x_trainval = x_trainval.values\n",
    "x_train = x_train.values\n",
    "x_valid = x_valid.values\n",
    "x_test = x_test.values\n",
    "\n",
    "y_trainval = y_trainval.replace({'<=50K': 0, '>50K': 1}).values\n",
    "y_train = y_train.replace({'<=50K': 0, '>50K': 1}).values\n",
    "y_valid = y_valid.replace({'<=50K': 0, '>50K': 1}).values\n",
    "y_test = y_test.replace({'<=50K': 0, '>50K': 1}).values\n",
    "\n",
    "print(x_trainval.shape)\n",
    "print(x_train.shape)\n",
    "print(x_valid.shape)\n",
    "print(x_test.shape)"
   ]
  },
  {
   "cell_type": "code",
   "execution_count": 125,
   "id": "222a1792",
   "metadata": {},
   "outputs": [
    {
     "name": "stdout",
     "output_type": "stream",
     "text": [
      "Nombre de personnes avec salaire <= 50K: 755\n",
      "\n",
      "TEST DE MAJORITÉ:\n",
      "Précision sur les données de test: 75.5%\n"
     ]
    }
   ],
   "source": [
    "print(f'Nombre de personnes avec salaire <= 50K: {np.count_nonzero(y_test == 0)}')\n",
    "\n",
    "y_train_majority = np.zeros(len(y_train))\n",
    "y_test_majority = np.zeros(len(y_test))\n",
    "\n",
    "acc_majority = calculate_accuracy(y_train, y_test, y_train_majority, y_test_majority)\n",
    "\n",
    "print(f'\\nTEST DE MAJORITÉ:')\n",
    "print(f'Précision sur les données de test: {acc_majority[1]}%')"
   ]
  },
  {
   "cell_type": "code",
   "execution_count": null,
   "id": "1c864eb6",
   "metadata": {},
   "outputs": [],
   "source": [
    "# MATRICE DE DISSIMILARITÉ ADULT\n",
    "print('\\nMATRICE DE DISSIMILARITÉ ADULT (Apprentissage)') # 5000 x 5000\n",
    "mnist_diss_trainval = generate_matrix(dissimilarity_adult, x_trainval)\n",
    "\n",
    "print('\\nMATRICE DE DISSIMILARITÉ ADULT (Entraînement)')  # 4000 x 4000\n",
    "mnist_diss_train = generate_matrix(dissimilarity_adult, x_train)\n",
    "\n",
    "print('\\nMATRICE DE DISSIMILARITÉ ADULT (Validation)')    # 1000 x 4000\n",
    "mnist_diss_valid = generate_matrix(dissimilarity_adult, x_valid, x_train)\n",
    "\n",
    "print('\\nMATRICE DE DISSIMILARITÉ ADULT (Test)')          # 1000 x 5000\n",
    "mnist_diss_test = generate_matrix(dissimilarity_adult, x_test, x_trainval)"
   ]
  },
  {
   "cell_type": "code",
   "execution_count": 21,
   "id": "b0eea730",
   "metadata": {},
   "outputs": [],
   "source": [
    "# KMédoïdes\n",
    "def predict_kmedoids(initial_medoids, diss_train, diss_test):\n",
    "    kmedoids_instance = kmedoids(diss_train, initial_medoids, data_type='distance_matrix')\n",
    "    kmedoids_instance.process()\n",
    "\n",
    "    kmedoids_train = kmedoids_instance.predict(diss_train)\n",
    "    kmedoids_test = kmedoids_instance.predict(diss_test)\n",
    "    \n",
    "    return(kmedoids_train, kmedoids_test)"
   ]
  },
  {
   "cell_type": "code",
   "execution_count": 35,
   "id": "81085410",
   "metadata": {},
   "outputs": [],
   "source": [
    "# Partition Binaire\n",
    "def agglomerative_clustering_predict(agglomerative_clustering, dissimilarity_matrix):\n",
    "    average_dissimilarity = list()\n",
    "    for i in range(agglomerative_clustering.n_clusters):\n",
    "        ith_clusters_dissimilarity = dissimilarity_matrix[:, np.where(agglomerative_clustering.labels_==i)[0]]\n",
    "        average_dissimilarity.append(ith_clusters_dissimilarity.mean(axis=1))\n",
    "    return np.argmin(np.stack(average_dissimilarity), axis=0)\n",
    "\n",
    "def predict_agglo(cluster, diss_train, diss_test):\n",
    "    agglomerative_clustering = AgglomerativeClustering(n_clusters=cluster, affinity='precomputed', linkage='average')\n",
    "    agglomerative_clustering.fit(diss_train)\n",
    "\n",
    "    agglo_train = agglomerative_clustering_predict(agglomerative_clustering, diss_train)\n",
    "    agglo_test = agglomerative_clustering_predict(agglomerative_clustering, diss_test)\n",
    "    \n",
    "    return(agglo_train, agglo_test)"
   ]
  },
  {
   "cell_type": "code",
   "execution_count": 51,
   "id": "41704cb3",
   "metadata": {},
   "outputs": [],
   "source": [
    "# kNN\n",
    "# train, test peuvent être soit x_train/x_test ou les matrices de dissimilarité\n",
    "def predict_knn(neighbors, train, test, y_train, is_matrix):\n",
    "    if is_matrix:\n",
    "        knn = KNeighborsClassifier(n_neighbors=neighbors, metric='precomputed', algorithm='brute')\n",
    "    else:\n",
    "        knn = KNeighborsClassifier(n_neighbors=neighbors)\n",
    "    \n",
    "    knn.fit(train, y_train)\n",
    "    knn_train = knn.predict(train)\n",
    "    knn_test = knn.predict(test)\n",
    "    \n",
    "    return(knn_train, knn_test)"
   ]
  },
  {
   "cell_type": "code",
   "execution_count": 52,
   "id": "f2194bde",
   "metadata": {},
   "outputs": [],
   "source": [
    "# PCoA\n",
    "def predict_pcoa(component, diss_train, diss_test, neighbors, y_train):\n",
    "    pcoa = KernelPCA(n_components = component, kernel='precomputed')\n",
    "    pcoa_train = pcoa.fit_transform(-.5*diss_train**2)\n",
    "    pcoa_test = pcoa.transform(-.5*diss_test**2)\n",
    "    \n",
    "    return predict_knn(neighbors, pcoa_train, pcoa_test, y_train, False)"
   ]
  },
  {
   "cell_type": "code",
   "execution_count": 62,
   "id": "fdf9208e",
   "metadata": {},
   "outputs": [],
   "source": [
    "# Isomap\n",
    "def predict_isomap(component, diss_train, diss_test, neighbors, y_train):\n",
    "    isomap = Isomap(n_components=components[i], n_neighbors=2, metric='precomputed')\n",
    "    isomap_train = isomap.fit_transform(diss_train)\n",
    "    isomap_test = isomap.transform(diss_test)\n",
    "    \n",
    "    return predict_knn(neighbors, isomap_train, isomap_test, y_train, False)"
   ]
  },
  {
   "cell_type": "code",
   "execution_count": 70,
   "id": "f8d9f677",
   "metadata": {},
   "outputs": [
    {
     "data": {
      "text/plain": [
       "array([1, 2, 3, 6, 7, 6, 9, 3, 7, 1, 1, 4, 0, 8, 4, 5, 7, 7, 3, 4, 2, 2,\n",
       "       4, 8, 1, 1, 2, 6, 8, 0, 9, 6, 1, 6, 5, 8, 0, 2, 1, 1, 5, 2, 7, 0,\n",
       "       7, 5, 3, 7, 5, 4, 1, 3, 1, 1, 9, 0, 1, 1, 9, 1, 5, 7, 8, 3, 7, 0,\n",
       "       7, 3, 9, 4, 2, 6, 2, 9, 7, 7, 1, 5, 4, 4, 3, 2, 9, 9, 2, 8, 4, 8,\n",
       "       5, 9, 8, 5, 4, 5, 3, 7, 7, 6, 1, 6, 0, 4, 4, 4, 1, 6, 5, 5, 2, 6,\n",
       "       1, 3, 9, 9, 1, 2, 0, 3, 2, 3, 7, 9, 3, 8, 9, 7, 7, 9, 8, 3, 1, 7,\n",
       "       4, 6, 9, 6, 8, 1, 1, 6, 9, 4, 1, 7, 5, 5, 1, 1, 8, 0, 3, 3, 4, 6,\n",
       "       3, 6, 7, 9, 7, 9, 7, 3, 5, 0, 8, 0, 7, 6, 1, 5, 9, 1, 1, 7, 4, 3,\n",
       "       2, 0, 6, 1, 9, 3, 6, 8, 6, 6, 2, 3, 4, 6, 9, 3, 3, 8, 3, 1, 3, 7,\n",
       "       7, 6, 1, 6, 7, 8, 5, 8, 6, 5, 5, 4, 8, 8, 0, 0, 9, 6, 8, 5, 8, 9,\n",
       "       4, 1, 8, 1, 9, 8, 9, 3, 6, 5, 6, 6, 5, 6, 1, 8, 3, 1, 3, 9, 9, 8,\n",
       "       9, 3, 2, 3, 7, 5, 8, 7, 1, 3, 5, 6, 4, 5, 5, 3, 5, 1, 3, 5, 1, 7,\n",
       "       8, 2, 8, 1, 7, 0, 1, 4, 3, 9, 5, 7, 2, 7, 1, 9, 1, 2, 3, 1, 3, 2,\n",
       "       2, 0, 8, 6, 5, 9, 4, 7, 5, 7, 1, 0, 7, 1, 5, 0, 4, 8, 7, 6, 0, 7,\n",
       "       1, 5, 3, 0, 2, 3, 8, 4, 0, 3, 1, 7, 7, 2, 8, 8, 4, 7, 6, 2, 1, 1,\n",
       "       6, 8, 2, 6, 4, 3, 6, 9, 0, 4, 2, 5, 3, 4, 7, 1, 8, 1, 9, 5, 5, 9,\n",
       "       4, 2, 4, 5, 6, 8, 1, 8, 2, 9, 4, 4, 1, 8, 4, 9, 3, 8, 9, 9, 5, 7,\n",
       "       7, 2, 8, 3, 1, 6, 0, 6, 1, 1, 3, 7, 6, 7, 7, 5, 7, 8, 5, 2, 5, 1,\n",
       "       8, 4, 5, 7, 2, 3, 6, 0, 0, 4, 2, 2, 5, 9, 7, 3, 8, 4, 4, 9, 0, 4,\n",
       "       5, 4, 7, 4, 9, 7, 6, 0, 2, 1, 5, 6, 5, 1, 9, 4, 3, 6, 6, 3, 0, 2,\n",
       "       4, 3, 1, 2, 7, 4, 4, 4, 8, 9, 3, 2, 2, 5, 9, 0, 1, 8, 2, 5, 7, 6,\n",
       "       9, 3, 7, 6, 8, 2, 5, 8, 8, 6, 8, 3, 5, 6, 5, 7, 3, 3, 7, 8, 9, 7,\n",
       "       7, 7, 4, 0, 0, 2, 7, 8, 5, 6, 2, 4, 7, 3, 2, 8, 2, 5, 3, 0, 4, 7,\n",
       "       5, 5, 5, 8, 7, 7, 4, 8, 7, 8, 1, 1, 3, 8, 1, 2, 5, 2, 1, 0, 2, 0,\n",
       "       7, 7, 3, 3, 7, 0, 5, 4, 6, 5, 7, 6, 3, 2, 1, 2, 9, 1, 1, 1, 8, 2,\n",
       "       1, 4, 2, 0, 5, 8, 4, 3, 1, 2, 8, 4, 3, 9, 0, 1, 2, 7, 4, 0, 6, 3,\n",
       "       9, 8, 3, 2, 7, 9, 0, 6, 3, 9, 8, 5, 7, 7, 2, 8, 2, 2, 6, 1, 6, 7,\n",
       "       8, 0, 3, 8, 6, 1, 6, 6, 7, 5, 0, 1, 3, 4, 6, 2, 1, 9, 6, 9, 2, 0,\n",
       "       3, 8, 8, 9, 9, 9, 1, 2, 7, 3, 6, 5, 3, 3, 3, 9, 0, 9, 4, 8, 6, 7,\n",
       "       3, 7, 1, 8, 2, 6, 0, 7, 7, 0, 7, 2, 5, 1, 2, 3, 5, 8, 3, 2, 5, 1,\n",
       "       6, 1, 7, 2, 3, 1, 9, 6, 4, 9, 8, 0, 0, 8, 5, 2, 1, 0, 0, 8, 7, 4,\n",
       "       5, 6, 8, 7, 1, 2, 0, 9, 5, 4, 3, 7, 2, 8, 5, 5, 0, 0, 7, 8, 1, 1,\n",
       "       9, 5, 0, 8, 5, 5, 0, 9, 4, 4, 8, 9, 7, 9, 4, 4, 7, 5, 7, 7, 1, 0,\n",
       "       9, 1, 7, 8, 9, 3, 6, 6, 6, 9, 8, 2, 6, 7, 2, 7, 8, 9, 2, 3, 0, 6,\n",
       "       6, 1, 7, 1, 1, 8, 2, 0, 0, 1, 8, 4, 9, 3, 8, 0, 6, 5, 2, 3, 2, 8,\n",
       "       5, 3, 6, 4, 7, 2, 6, 2, 0, 0, 7, 3, 1, 0, 4, 8, 3, 1, 5, 3, 1, 7,\n",
       "       6, 8, 5, 6, 0, 0, 9, 9, 0, 4, 4, 9, 2, 3, 7, 4, 1, 4, 0, 6, 0, 8,\n",
       "       0, 7, 7, 8, 8, 5, 1, 7, 7, 1, 1, 2, 5, 8, 2, 3, 1, 0, 1, 8, 0, 9,\n",
       "       7, 6, 6, 9, 2, 7, 9, 1, 9, 9, 0, 0, 4, 2, 5, 1, 1, 1, 6, 7, 6, 0,\n",
       "       0, 3, 5, 2, 1, 6, 9, 4, 7, 7, 0, 4, 7, 2, 4, 2, 4, 7, 2, 6, 4, 9,\n",
       "       4, 0, 2, 6, 9, 5, 4, 7, 7, 0, 4, 7, 1, 6, 6, 1, 2, 8, 2, 7, 0, 9,\n",
       "       3, 7, 3, 9, 0, 5, 6, 7, 5, 6, 0, 2, 2, 2, 3, 5, 6, 6, 4, 8, 7, 9,\n",
       "       4, 9, 8, 5, 6, 5, 4, 7, 2, 2, 6, 1, 5, 3, 8, 2, 2, 3, 0, 1, 6, 9,\n",
       "       2, 8, 4, 9, 7, 2, 7, 4, 8, 0, 4, 4, 4, 2, 7, 7, 8, 2, 3, 6, 9, 3,\n",
       "       6, 9, 2, 3, 0, 6, 4, 0, 2, 5, 2, 3, 6, 8, 6, 0, 2, 3, 9, 9, 3, 9,\n",
       "       8, 0, 8, 6, 2, 4, 7, 9, 1, 9], dtype=int64)"
      ]
     },
     "execution_count": 70,
     "metadata": {},
     "output_type": "execute_result"
    }
   ],
   "source": [
    "#########################################################\n",
    "#######################   MNIST  ########################\n",
    "#########################################################\n",
    "\n",
    "# Échantillonnage des données MNIST\n",
    "\n",
    "# Les données d'apprentissage est composée des données de train et de valid.\n",
    "# Lorsqu'un algorithme n'a pas d'hyperparamètres à tester, on apprend directement\n",
    "# avec x_trainval.\n",
    "\n",
    "# Lorsqu'il y a présence des hyperparamètres:\n",
    "# Pour chaque valeur d'hyperparamètre:\n",
    "# 1. Apprendre sur x_train\n",
    "# 2. Calculer la précision par rapport aux prédictions sur x_valid\n",
    "# 3. Trouver le meilleur hyperparamètre\n",
    "\n",
    "# Pour la prédiction:\n",
    "# 1. Apprendre sur x_trainval avec l'hyperparamètre à valeur optimale.\n",
    "# 2. Prédire sur x_test\n",
    "\n",
    "n_trainval = 5000\n",
    "mnist_trainval = pd.read_csv('mnist_train.csv')\n",
    "mnist_trainval = mnist_trainval.head(5000)\n",
    "x_trainval = mnist_trainval.drop('label', axis = 1).values\n",
    "y_trainval = mnist_trainval.loc[:, 'label'].values\n",
    "\n",
    "x_train, x_valid, y_train, y_valid = train_test_split(x_trainval, y_trainval, test_size=(1/5), random_state=0)\n",
    "\n",
    "n_test = 1000\n",
    "mnist_test = pd.read_csv('mnist_test.csv')\n",
    "mnist_test = mnist_test.head(n_test)\n",
    "x_test = mnist_test.drop('label', axis = 1).values\n",
    "y_test = mnist_test.loc[:, 'label'].values\n",
    "\n",
    "y_valid"
   ]
  },
  {
   "cell_type": "code",
   "execution_count": 5,
   "id": "4ad7b9be",
   "metadata": {},
   "outputs": [
    {
     "data": {
      "image/png": "[encoded data removed]",
      "text/plain": [
       "<Figure size 864x576 with 1 Axes>"
      ]
     },
     "metadata": {},
     "output_type": "display_data"
    }
   ],
   "source": [
    "# NETTOYAGE DES DONNÉES (convertir les pixels de 0 à 255, à avoir uniquement\n",
    "# des chiffres binaires (0 ou 1)) (TP1)\n",
    "def clean_data_MNIST(x):\n",
    "    for i in range(len(x)):\n",
    "        for j in range(len(x[0])):\n",
    "            if x[i][j] != 0:\n",
    "                x[i][j] = round(int(x[i][j])/255.0)\n",
    "    return x\n",
    "\n",
    "x_trainval = clean_data_MNIST(x_trainval)\n",
    "x_train = clean_data_MNIST(x_train)\n",
    "x_valid = clean_data_MNIST(x_valid)\n",
    "x_test = clean_data_MNIST(x_test)\n",
    "\n",
    "image = x_test[0]\n",
    "matrix_image = np.reshape(image, (28,28))\n",
    "plt.imshow(matrix_image, cmap='gray')\n",
    "plt.show()"
   ]
  },
  {
   "cell_type": "code",
   "execution_count": 6,
   "id": "95e201c1",
   "metadata": {},
   "outputs": [
    {
     "name": "stdout",
     "output_type": "stream",
     "text": [
      "MNIST\n",
      "Dans les données du test...\n",
      "Nombre d'occurences du chiffre 0: 85\n",
      "Nombre d'occurences du chiffre 1: 126\n",
      "Nombre d'occurences du chiffre 2: 116\n",
      "Nombre d'occurences du chiffre 3: 107\n",
      "Nombre d'occurences du chiffre 4: 110\n",
      "Nombre d'occurences du chiffre 5: 87\n",
      "Nombre d'occurences du chiffre 6: 87\n",
      "Nombre d'occurences du chiffre 7: 99\n",
      "Nombre d'occurences du chiffre 8: 89\n",
      "Nombre d'occurences du chiffre 9: 94\n",
      "\n",
      "TEST DE MAJORITÉ:\n",
      "Précision sur les données de test: 12.599999999999994%\n"
     ]
    }
   ],
   "source": [
    "# TEST DE MAJORITÉ\n",
    "print('MNIST')\n",
    "print('Dans les données du test...')\n",
    "for i in range(0,10):\n",
    "    print(f'Nombre d\\'occurences du chiffre {i}: {np.count_nonzero(y_test == i)}')\n",
    "    \n",
    "# Chiffre majoritaire: \n",
    "y_train_majority = np.full(len(y_train), 1)\n",
    "y_test_majority = np.full(len(y_test), 1)\n",
    "acc_majority = calculate_accuracy(y_train, y_test, y_train_majority, y_test_majority)\n",
    "print(f'\\nTEST DE MAJORITÉ:')\n",
    "print(f'Précision sur les données de test: {acc_majority[1]}%')\n",
    "\n",
    "# L'objectif est de battre cette précision.\n",
    "# Précision de 12.60%"
   ]
  },
  {
   "cell_type": "code",
   "execution_count": 7,
   "id": "a59c23d4",
   "metadata": {},
   "outputs": [
    {
     "name": "stdout",
     "output_type": "stream",
     "text": [
      "\n",
      "MATRICE DE DISSIMILARITÉ EUCLIDIENNE (Apprentissage)\n",
      "Itération 500 terminée!\n",
      "Itération 1000 terminée!\n",
      "Itération 1500 terminée!\n",
      "Itération 2000 terminée!\n",
      "Itération 2500 terminée!\n",
      "Itération 3000 terminée!\n",
      "Itération 3500 terminée!\n",
      "Itération 4000 terminée!\n",
      "Itération 4500 terminée!\n",
      "Itération 5000 terminée!\n",
      "Fin du calcul de la matrice\n",
      "Dimension de la matrice: (5000, 5000)\n",
      "\n",
      "MATRICE DE DISSIMILARITÉ EUCLIDIENNE (Entraînement)\n",
      "Itération 500 terminée!\n",
      "Itération 1000 terminée!\n",
      "Itération 1500 terminée!\n",
      "Itération 2000 terminée!\n",
      "Itération 2500 terminée!\n",
      "Itération 3000 terminée!\n",
      "Itération 3500 terminée!\n",
      "Itération 4000 terminée!\n",
      "Fin du calcul de la matrice\n",
      "Dimension de la matrice: (4000, 4000)\n",
      "\n",
      "MATRICE DE DISSIMILARITÉ EUCLIDIENNE (Validation)\n",
      "Itération 500 terminée!\n",
      "Itération 1000 terminée!\n",
      "Fin du calcul de la matrice\n",
      "Dimension de la matrice: (1000, 4000)\n",
      "\n",
      "MATRICE DE DISSIMILARITÉ EUCLIDIENNE (Test)\n",
      "Itération 500 terminée!\n",
      "Itération 1000 terminée!\n",
      "Fin du calcul de la matrice\n",
      "Dimension de la matrice: (1000, 5000)\n"
     ]
    }
   ],
   "source": [
    "# MATRICE DE DISSIMILARITÉ EUCLIDIENNE\n",
    "print('\\nMATRICE DE DISSIMILARITÉ EUCLIDIENNE (Apprentissage)') # 5000 x 5000\n",
    "mnist_diss_trainval = generate_matrix(l2, x_trainval)\n",
    "\n",
    "print('\\nMATRICE DE DISSIMILARITÉ EUCLIDIENNE (Entraînement)')  # 4000 x 4000\n",
    "mnist_diss_train = generate_matrix(l2, x_train)\n",
    "\n",
    "print('\\nMATRICE DE DISSIMILARITÉ EUCLIDIENNE (Validation)')    # 1000 x 4000\n",
    "mnist_diss_valid = generate_matrix(l2, x_valid, x_train)\n",
    "\n",
    "print('\\nMATRICE DE DISSIMILARITÉ EUCLIDIENNE (Test)')          # 1000 x 5000\n",
    "mnist_diss_test = generate_matrix(l2, x_test, x_trainval)"
   ]
  },
  {
   "cell_type": "code",
   "execution_count": 26,
   "id": "b71d3925",
   "metadata": {},
   "outputs": [
    {
     "name": "stdout",
     "output_type": "stream",
     "text": [
      "\n",
      "ALGORITHME 1: KMédoïdes\n",
      "Précision sur les données d'apprentissage: 19.64%\n",
      "Précision sur les données de test: 17.60000000000001%\n"
     ]
    }
   ],
   "source": [
    "# Algorithme 1: KMédoïdes\n",
    "print('\\nALGORITHME 1: KMédoïdes')\n",
    "mnist_kmedoids = predict_kmedoids([0,1,2,3,4,5,6,7,8,9], mnist_diss_trainval, mnist_diss_test)\n",
    "acc_kmedoids = calculate_accuracy(y_trainval, y_test, mnist_kmedoids[0], mnist_kmedoids[1])\n",
    "\n",
    "print(f'Précision sur les données d\\'apprentissage: {acc_kmedoids[0]}%')\n",
    "print(f'Précision sur les données de test: {acc_kmedoids[1]}%')"
   ]
  },
  {
   "cell_type": "code",
   "execution_count": 39,
   "id": "d53773df",
   "metadata": {},
   "outputs": [
    {
     "name": "stdout",
     "output_type": "stream",
     "text": [
      "\n",
      "ALGORITHME 2: Partition Binaire\n",
      "Précision sur les données d'apprentissage: 1.6200000000000045%\n",
      "Précision sur les données de test: 2.4000000000000057%\n"
     ]
    }
   ],
   "source": [
    "# Algorithme 2: Partition Binaire\n",
    "print('\\nALGORITHME 2: Partition Binaire')\n",
    "mnist_agglo = predict_agglo(10, mnist_diss_trainval, mnist_diss_test)\n",
    "acc_agglo = calculate_accuracy(y_trainval, y_test, mnist_agglo[0], mnist_agglo[1])\n",
    "\n",
    "print(f'Précision sur les données d\\'apprentissage: {acc_agglo[0]}%')\n",
    "print(f'Précision sur les données de test: {acc_agglo[1]}%')"
   ]
  },
  {
   "cell_type": "code",
   "execution_count": 65,
   "id": "cb693ae2",
   "metadata": {},
   "outputs": [
    {
     "name": "stdout",
     "output_type": "stream",
     "text": [
      "\n",
      "ALGORITHME 3 kNN\n"
     ]
    },
    {
     "data": {
      "image/png": "[encoded data removed]",
      "text/plain": [
       "<Figure size 864x576 with 1 Axes>"
      ]
     },
     "metadata": {},
     "output_type": "display_data"
    }
   ],
   "source": [
    "# Algorithme 3: KNN\n",
    "print('\\nALGORITHME 3 kNN')\n",
    "voisins = np.array([1, 2, 5, 10, 20, 50, 100])\n",
    "error_train = np.zeros(len(voisins))\n",
    "error_valid = np.zeros(len(voisins))\n",
    "\n",
    "for i in range(len(voisins)):\n",
    "    mnist_knn = predict_knn(voisins[i], mnist_diss_train, mnist_diss_valid, y_train, True)\n",
    "    acc_knn = calculate_accuracy(y_train, y_valid, mnist_knn[0], mnist_knn[1])\n",
    "    \n",
    "    error_train[i] = acc_knn[0]\n",
    "    error_valid[i] = acc_knn[1]\n",
    "\n",
    "plt.plot(voisins, error_train, linestyle='--', marker='o', color='b', label = \"Précision d'entraînement\")\n",
    "plt.plot(voisins, error_valid, linestyle='--', marker='o', color='r', label = \"Précision de validation\")\n",
    "plt.legend(frameon=True, loc='lower center', ncol=2)\n",
    "plt.xlabel('Nombre de voisins')\n",
    "plt.ylabel('Accuracy')\n",
    "plt.title('Précision de classification de KNN')\n",
    "plt.grid(True)\n",
    "plt.show()"
   ]
  },
  {
   "cell_type": "code",
   "execution_count": 54,
   "id": "2586a54a",
   "metadata": {},
   "outputs": [
    {
     "name": "stdout",
     "output_type": "stream",
     "text": [
      "Hyperparamètre choisi: 1 voisin\n",
      "Précision sur les données d'apprentissage: 100.0%\n",
      "Précision sur les données de test: 87.6%\n"
     ]
    }
   ],
   "source": [
    "mnist_knn = predict_knn(1, mnist_diss_trainval, mnist_diss_test, y_trainval, True)\n",
    "acc_knn = calculate_accuracy(y_trainval, y_test, mnist_knn[0], mnist_knn[1])\n",
    "\n",
    "print(f'Hyperparamètre choisi: 1 voisin')\n",
    "print(f'Précision sur les données d\\'apprentissage: {acc_knn[0]}%')\n",
    "print(f'Précision sur les données de test: {acc_knn[1]}%')"
   ]
  },
  {
   "cell_type": "code",
   "execution_count": 66,
   "id": "1e62b37a",
   "metadata": {},
   "outputs": [
    {
     "name": "stdout",
     "output_type": "stream",
     "text": [
      "\n",
      "ALGORITHME 4 PCoA\n"
     ]
    },
    {
     "data": {
      "image/png": "[encoded data removed]",
      "text/plain": [
       "<Figure size 864x576 with 1 Axes>"
      ]
     },
     "metadata": {},
     "output_type": "display_data"
    }
   ],
   "source": [
    "# Algorithme 4: PCoA\n",
    "print('\\nALGORITHME 4 PCoA')\n",
    "\n",
    "components = np.array([2, 3, 5, 10, 20, 50, 100, 200, 300])\n",
    "error_train = np.zeros(len(components))\n",
    "error_valid = np.zeros(len(components))\n",
    "\n",
    "for i in range(len(components)):\n",
    "    mnist_pcoa = predict_pcoa(components[i], mnist_diss_train, mnist_diss_valid, 1, y_train)\n",
    "    acc_pcoa = calculate_accuracy(y_train, y_valid, mnist_pcoa[0], mnist_pcoa[1])\n",
    "    \n",
    "    error_train[i] = acc_pcoa[0]\n",
    "    error_valid[i] = acc_pcoa[1]\n",
    "\n",
    "plt.plot(components, error_train, linestyle='--', marker='o', color='b', label = \"Précision d'entraînement\")\n",
    "plt.plot(components, error_valid, linestyle='--', marker='o', color='r', label = \"Précision de validation\")\n",
    "plt.legend(frameon=True, loc='lower center', ncol=2)\n",
    "plt.xlabel('Nombre de composantes principales')\n",
    "plt.ylabel('Accuracy')\n",
    "plt.title('Précision de classification de PCoA')\n",
    "plt.grid(True)\n",
    "plt.show()"
   ]
  },
  {
   "cell_type": "code",
   "execution_count": 67,
   "id": "903af0ba",
   "metadata": {},
   "outputs": [
    {
     "name": "stdout",
     "output_type": "stream",
     "text": [
      "Hyperparamètre choisi: 50 composantes principales\n",
      "Précision sur les données d'apprentissage: 100.0%\n",
      "Précision sur les données de test: 92.0%\n"
     ]
    }
   ],
   "source": [
    "mnist_pcoa = predict_pcoa(50, mnist_diss_trainval, mnist_diss_test, 1, y_trainval)\n",
    "acc_pcoa = calculate_accuracy(y_trainval, y_test, mnist_pcoa[0], mnist_pcoa[1])\n",
    "\n",
    "print(f'Hyperparamètre choisi: 50 composantes principales')\n",
    "print(f'Précision sur les données d\\'apprentissage: {acc_pcoa[0]}%')\n",
    "print(f'Précision sur les données de test: {acc_pcoa[1]}%')"
   ]
  },
  {
   "cell_type": "code",
   "execution_count": 68,
   "id": "2c040316",
   "metadata": {},
   "outputs": [
    {
     "name": "stdout",
     "output_type": "stream",
     "text": [
      "\n",
      "ALGORITHME 5 Isomap\n"
     ]
    },
    {
     "data": {
      "image/png": "[encoded data removed]",
      "text/plain": [
       "<Figure size 864x576 with 1 Axes>"
      ]
     },
     "metadata": {},
     "output_type": "display_data"
    }
   ],
   "source": [
    "# Algorithme 5: Isomap\n",
    "print('\\nALGORITHME 5 Isomap')\n",
    "\n",
    "components = np.array([2, 3, 5, 10, 20, 50, 100])\n",
    "error_train = np.zeros(len(components))\n",
    "error_valid = np.zeros(len(components))\n",
    "\n",
    "for i in range(len(components)):\n",
    "    mnist_isomap = predict_isomap(components[i], mnist_diss_train, mnist_diss_valid, 1, y_train)\n",
    "    acc_isomap = calculate_accuracy(y_train, y_valid, mnist_isomap[0], mnist_isomap[1])\n",
    "    \n",
    "    error_train[i] = acc_isomap[0]\n",
    "    error_valid[i] = acc_isomap[1]\n",
    "\n",
    "plt.plot(components, error_train, linestyle='--', marker='o', color='b', label = \"Précision d'entraînement\")\n",
    "plt.plot(components, error_valid, linestyle='--', marker='o', color='r', label = \"Précision de validation\")\n",
    "plt.legend(frameon=True, loc='lower center', ncol=2)\n",
    "plt.xlabel('Nombre de composantes principales')\n",
    "plt.ylabel('Accuracy')\n",
    "plt.title('Précision de classification de Isomap')\n",
    "plt.grid(True)\n",
    "plt.show()"
   ]
  },
  {
   "cell_type": "code",
   "execution_count": 69,
   "id": "d7081124",
   "metadata": {},
   "outputs": [
    {
     "name": "stdout",
     "output_type": "stream",
     "text": [
      "Hyperparamètre choisi: 50\n",
      "Précision sur les données d'apprentissage: 100.0%\n",
      "Précision sur les données de test: 85.3%\n"
     ]
    }
   ],
   "source": [
    "mnist_isomap = predict_isomap(50, mnist_diss_trainval, mnist_diss_test, 1, y_trainval)\n",
    "acc_isomap = calculate_accuracy(y_trainval, y_test, mnist_isomap[0], mnist_isomap[1])\n",
    "\n",
    "print(f'Hyperparamètre choisi: 50')\n",
    "print(f'Précision sur les données d\\'apprentissage: {acc_isomap[0]}%')\n",
    "print(f'Précision sur les données de test: {acc_isomap[1]}%')"
   ]
  },
  {
   "cell_type": "code",
   "execution_count": null,
   "id": "a992a168",
   "metadata": {},
   "outputs": [],
   "source": [
    "# Anciens codes non utilisés pour l'instant\n",
    "\n",
    "# Graphique des PCoA à 2 dimensions\n",
    "\n",
    "#sns.set(rc={'figure.figsize':(12,8)})\n",
    "#graph_train = sns.scatterplot(x = pcoa_train[:,0], y = pcoa_train[:, 1], hue = y_train, \n",
    "#                        palette = ['red', 'orange', 'gold', 'green', 'blue', 'purple', 'pink', 'brown', 'grey', 'black'])\n",
    "\n",
    "#sns.set(rc={'figure.figsize':(12,8)})\n",
    "#graph_test = sns.scatterplot(x = pcoa_test[:,0], y = pcoa_test[:, 1], hue = y_test, \n",
    "#                        palette = ['red', 'orange', 'gold', 'green', 'blue', 'purple', 'pink', 'brown', 'grey', 'black'])\n",
    "\n",
    "# Isomap\n",
    "#isomap = Isomap(n_components=2, n_neighbors=2, metric='precomputed')\n",
    "#isomap_train = isomap.fit_transform(mnist_dissimilarity_train)\n",
    "#isomap_test = isomap.transform(mnist_dissimilarity_test)\n",
    "\n",
    "#import seaborn as sns\n",
    "#sns.set(rc={'figure.figsize':(12,8)})\n",
    "#graph_train = sns.scatterplot(x = isomap_train[:,0], y = isomap_train[:,1], hue = y_train, \n",
    "#                        palette = ['red', 'orange', 'gold', 'green', 'blue', 'purple', 'pink', 'brown', 'grey', 'black'])\n",
    "\n",
    "#graph_test = sns.scatterplot(x = isomap_test[:,0], y = isomap_test[:,1], hue = y_test, \n",
    "#                        palette = ['red', 'orange', 'gold', 'green', 'blue', 'purple', 'pink', 'brown', 'grey', 'black'])"
   ]
  }
 ],
 "metadata": {
  "kernelspec": {
   "display_name": "Python 3 (ipykernel)",
   "language": "python",
   "name": "python3"
  },
  "language_info": {
   "codemirror_mode": {
    "name": "ipython",
    "version": 3
   },
   "file_extension": ".py",
   "mimetype": "text/x-python",
   "name": "python",
   "nbconvert_exporter": "python",
   "pygments_lexer": "ipython3",
   "version": "3.9.7"
  }
 },
 "nbformat": 4,
 "nbformat_minor": 5
}
