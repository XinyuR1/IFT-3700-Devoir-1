{
 "cells": [
  {
   "cell_type": "code",
   "execution_count": 1,
   "id": "edf16a4d",
   "metadata": {},
   "outputs": [],
   "source": [
    "# Devoir 1\n",
    "# Mesures de similarité - Test\n",
    "import numpy as np\n",
    "import pandas as pd\n",
    "import matplotlib.pyplot as plt"
   ]
  },
  {
   "cell_type": "code",
   "execution_count": 2,
   "id": "61779259",
   "metadata": {},
   "outputs": [
    {
     "name": "stdout",
     "output_type": "stream",
     "text": [
      "[5 0 4 1 9 2 1 3 1 4 3 5 3 6 1 7 2 8 6 9]\n"
     ]
    }
   ],
   "source": [
    "# MNIST: TEST POUR 20 PREMIÈRES IMAGES de mnist_train\n",
    "mnist_train = pd.read_csv('mnist_train.csv')\n",
    "\n",
    "x_train = mnist_train.drop('label', axis = 1).values\n",
    "y_train = mnist_train.loc[:, 'label'].values\n",
    "\n",
    "x_train = x_train[0:20,:]\n",
    "y_train = y_train[0:20]\n",
    "print(y_train)"
   ]
  },
  {
   "cell_type": "code",
   "execution_count": 3,
   "id": "01b572a5",
   "metadata": {},
   "outputs": [
    {
     "data": {
      "image/png": "[encoded data removed]",
      "text/plain": [
       "<Figure size 432x288 with 1 Axes>"
      ]
     },
     "metadata": {
      "needs_background": "light"
     },
     "output_type": "display_data"
    }
   ],
   "source": [
    "# Tirée du TP1\n",
    "image = x_train[18]\n",
    "matrix_image = np.reshape(image, (28,28))\n",
    "plt.imshow(matrix_image, cmap='gray')\n",
    "plt.show()\n",
    "\n",
    "for i in range(len(x_train)):\n",
    "    for j in range(len(x_train[0])):\n",
    "        if x_train[i][j] != 0:\n",
    "            x_train[i][j] = round(int(x_train[i][j])/255.0)"
   ]
  },
  {
   "cell_type": "code",
   "execution_count": 4,
   "id": "81309974",
   "metadata": {},
   "outputs": [
    {
     "data": {
      "image/png": "[encoded data removed]",
      "text/plain": [
       "<Figure size 432x288 with 1 Axes>"
      ]
     },
     "metadata": {
      "needs_background": "light"
     },
     "output_type": "display_data"
    },
    {
     "data": {
      "image/png": "[encoded data removed]",
      "text/plain": [
       "<Figure size 432x288 with 1 Axes>"
      ]
     },
     "metadata": {
      "needs_background": "light"
     },
     "output_type": "display_data"
    }
   ],
   "source": [
    "# On transforme l'image afin que les pixels soient uniquement des valeurs 0 ou 1.\n",
    "image = x_train[2]\n",
    "matrix_image = np.reshape(image, (28,28))\n",
    "plt.imshow(matrix_image, cmap='gray')\n",
    "plt.show()\n",
    "image = x_train[9]\n",
    "matrix_image = np.reshape(image, (28,28))\n",
    "plt.imshow(matrix_image, cmap='gray')\n",
    "plt.show()"
   ]
  },
  {
   "cell_type": "code",
   "execution_count": 7,
   "id": "eb8d420a",
   "metadata": {},
   "outputs": [
    {
     "data": {
      "image/png": "[encoded data removed]",
      "text/plain": [
       "<Figure size 432x288 with 1 Axes>"
      ]
     },
     "metadata": {
      "needs_background": "light"
     },
     "output_type": "display_data"
    },
    {
     "name": "stdout",
     "output_type": "stream",
     "text": [
      "Nombre de pixels blancs: 61\n",
      "Nombre de pixels noirs: 71\n",
      "Nombre de pixels gris: 652\n"
     ]
    }
   ],
   "source": [
    "# Début de la mesure de dissimilarité entre deux images:\n",
    "\n",
    "# ÉTAPE 1: Créer une image qui est la différence entre les deux images\n",
    "# -1 sont représentés par des pixels noirs, 1: blanc et 0: gris\n",
    "\n",
    "image = x_train[2] - x_train[4]\n",
    "matrix_image = np.reshape(image, (28,28))\n",
    "plt.imshow(matrix_image, cmap='gray')\n",
    "plt.show()\n",
    "\n",
    "ones = np.count_nonzero(image == 1)\n",
    "ones_neg = np.count_nonzero(image == -1)\n",
    "zeros = np.count_nonzero(image == 0)\n",
    "\n",
    "print(f'Nombre de pixels blancs: {ones}')\n",
    "print(f'Nombre de pixels noirs: {ones_neg}')\n",
    "print(f'Nombre de pixels gris: {zeros}')"
   ]
  },
  {
   "cell_type": "code",
   "execution_count": 345,
   "id": "994e2b01",
   "metadata": {},
   "outputs": [],
   "source": [
    "# white_matrix: matrice des pixels blancs selon leur position (28x28). Au lieu d'avoir des valeurs qui sont uniquement des \"1\", \n",
    "# ce dernier est remplacé par sa position en colonne.\n",
    "\n",
    "# Par exemple: supposons qu'il existe un pixel blanc à la 7e ligne et à la 18e colonne.\n",
    "# white_matrix va contenir donc la valeur \"18\" à la position (7,18).\n",
    "\n",
    "# Même principe pour dark_matrix, mais pour les pixels noirs.\n",
    "\n",
    "white_matrix = np.zeros((28,28))\n",
    "dark_matrix = np.zeros((28,28))\n",
    "\n",
    "for i in range(matrix_image.shape[0]):\n",
    "    for j in range(matrix_image.shape[0]):\n",
    "        if matrix_image[i][j] == 1:\n",
    "            white_matrix[i][j] = j\n",
    "        elif matrix_image[i][j] == -1:\n",
    "            dark_matrix[i][j] = j"
   ]
  },
  {
   "cell_type": "code",
   "execution_count": 346,
   "id": "2fc59912",
   "metadata": {},
   "outputs": [
    {
     "name": "stdout",
     "output_type": "stream",
     "text": [
      "[ 0  0  0  0  0 21 21 20  5  5  5 12 12 11 17  6  7 18 18 18 18 18 18 18\n",
      " 18  0  0  0]\n",
      "[ 0  0  0  0  0  0  0 15 16 13 12 11 10 12  8 16 14 14 14 14 14 14 14 14\n",
      " 16 16 16  0]\n"
     ]
    }
   ],
   "source": [
    "# On va comparer à quel point les pixels blancs sont loins aux pixels noirs pour CHAQUE ligne.\n",
    "# La complexité augmentera en raison du nombre de combinaisons de distances à calculer.\n",
    "\n",
    "# Tentative: pour CHAQUE ligne, on prend un seul pixel noir et blanc qui représentent la majorité des pixels noirs et blancs.\n",
    "# Ici, on choisit de prendre la médiane.\n",
    "\n",
    "white_array = np.zeros(28)\n",
    "dark_array = np.zeros(28)\n",
    "\n",
    "white_median = 0\n",
    "dark_median = 0\n",
    "\n",
    "for i in range(matrix_image.shape[0]):\n",
    "    white_median = np.median(white_matrix[i,:][white_matrix[i,:] != 0])\n",
    "    white_array[i] = white_median\n",
    "    \n",
    "    dark_median = np.median(dark_matrix[i,:][dark_matrix[i,:] != 0])\n",
    "    dark_array[i] = dark_median\n",
    "\n",
    "white_array[np.isnan(white_array)] = 0\n",
    "white_array = np.round(white_array).astype(int)\n",
    "dark_array[np.isnan(dark_array)] = 0\n",
    "dark_array = np.round(dark_array).astype(int)\n",
    "\n",
    "# Résumé chaque ligne par la médiane\n",
    "print(white_array)\n",
    "print(dark_array)"
   ]
  },
  {
   "cell_type": "code",
   "execution_count": 347,
   "id": "1569239a",
   "metadata": {},
   "outputs": [],
   "source": [
    "simple_matrix = np.zeros((28,28))\n",
    "\n",
    "for i in range(white_array.shape[0]):\n",
    "    if white_array[i] != 0:\n",
    "        simple_matrix[i][white_array[i]] = 1\n",
    "    if dark_array[i] != 0:\n",
    "        simple_matrix[i][dark_array[i]] = -1  "
   ]
  },
  {
   "cell_type": "code",
   "execution_count": 348,
   "id": "8e49fac5",
   "metadata": {},
   "outputs": [
    {
     "data": {
      "image/png": "[encoded data removed]",
      "text/plain": [
       "<Figure size 432x288 with 1 Axes>"
      ]
     },
     "metadata": {
      "needs_background": "light"
     },
     "output_type": "display_data"
    }
   ],
   "source": [
    "# Simplfication de l'image en conservant uniquement les pixels préservant la forme générale\n",
    "plt.imshow(simple_matrix, cmap='gray')\n",
    "plt.show()"
   ]
  },
  {
   "cell_type": "code",
   "execution_count": 349,
   "id": "e3c176a8",
   "metadata": {},
   "outputs": [
    {
     "name": "stdout",
     "output_type": "stream",
     "text": [
      "95\n"
     ]
    }
   ],
   "source": [
    "# CAS #1: Si on a un pixel noir et blanc sur une ligne. On calcule la distance entre les deux.\n",
    "#         Autrement dit, si à la 7e ligne, pixel blanc se trouve à la 23e colonne et pixel noir se trouve à la 25e colonne,\n",
    "#         on aura une dissimilarité de 2 pixels à la 7e ligne.\n",
    "# CAS #2: Si on a un seul type de pixel sur une ligne (blanc OU noir). On incrémente la dissimilarité de 1 pour dire qu'il\n",
    "#         existe un pixel supplémentaire.\n",
    "\n",
    "# Dissimilarité = Sum(i) pour 1 à 28 abs{xi - yi} où xi = 1 si yi = 0, yi = 1 si yi = 0\n",
    "\n",
    "for i in range(white_array.shape[0]):\n",
    "    if white_array[i] == 0 and dark_array[i] != 0:\n",
    "        dark_array[i] = 1\n",
    "    elif white_array[i] != 0 and dark_array[i] == 0:\n",
    "        white_array[i] = 1\n",
    "\n",
    "dissimilarity = np.sum(abs(white_array - dark_array))\n",
    "print(dissimilarity)"
   ]
  },
  {
   "cell_type": "code",
   "execution_count": null,
   "id": "06190ebc",
   "metadata": {},
   "outputs": [],
   "source": [
    "# Notion de similarité:\n",
    "# Nombre de pixels entre les pixels blancs et noirs et nombre supplémentaire de pixels"
   ]
  }
 ],
 "metadata": {
  "kernelspec": {
   "display_name": "Python 3 (ipykernel)",
   "language": "python",
   "name": "python3"
  },
  "language_info": {
   "codemirror_mode": {
    "name": "ipython",
    "version": 3
   },
   "file_extension": ".py",
   "mimetype": "text/x-python",
   "name": "python",
   "nbconvert_exporter": "python",
   "pygments_lexer": "ipython3",
   "version": "3.9.5"
  }
 },
 "nbformat": 4,
 "nbformat_minor": 5
}
