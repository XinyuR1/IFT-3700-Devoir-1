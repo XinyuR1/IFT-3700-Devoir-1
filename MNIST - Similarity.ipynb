{
 "cells": [
  {
   "cell_type": "code",
   "execution_count": 3,
   "id": "edf16a4d",
   "metadata": {},
   "outputs": [],
   "source": [
    "# Devoir 1\n",
    "# Mesures de similarité - Test\n",
    "import numpy as np\n",
    "import pandas as pd\n",
    "import matplotlib.pyplot as plt"
   ]
  },
  {
   "cell_type": "code",
   "execution_count": 37,
   "id": "61779259",
   "metadata": {},
   "outputs": [],
   "source": [
    "# MNIST: TEST POUR 20 PREMIÈRES IMAGES de mnist_train\n",
    "mnist_train = pd.read_csv('mnist_train.csv')\n",
    "mnist_test = pd.read_csv('mnist_test.csv')\n",
    "\n",
    "x_train = mnist_train.drop('label', axis = 1).values\n",
    "y_train = mnist_train.loc[:, 'label'].values\n",
    "x_test = mnist_test.drop('label', axis = 1).values\n",
    "y_test = mnist_test.loc[:, 'label'].values\n",
    "\n"
   ]
  },
  {
   "cell_type": "code",
   "execution_count": 38,
   "id": "fe9a281b",
   "metadata": {},
   "outputs": [
    {
     "name": "stdout",
     "output_type": "stream",
     "text": [
      "[5 0 4 1 9 2 1 3 1 4 3 5 3 6 1 7 2 8 6 9 4 0 9 1 1 2 4 3 2 7 3 8 6 9 0 5 6\n",
      " 0 7 6 1 8 7 9 3 9 8 5 9 3 3 0 7 4 9 8 0 9 4 1 4 4 6 0 4 5 6 1 0 0 1 7 1 6\n",
      " 3 0 2 1 1 7 9 0 2 6 7 8 3 9 0 4 6 7 4 6 8 0 7 8 3 1]\n"
     ]
    }
   ],
   "source": [
    "x_train = x_train[0:100,:]\n",
    "y_train = y_train[0:100]\n",
    "x_test = x_test[0:100,:]\n",
    "y_test = y_test[0:100]\n",
    "\n",
    "print(y_train)"
   ]
  },
  {
   "cell_type": "code",
   "execution_count": 3,
   "id": "01b572a5",
   "metadata": {},
   "outputs": [
    {
     "data": {
      "image/png": "[encoded data removed]",
      "text/plain": [
       "<Figure size 432x288 with 1 Axes>"
      ]
     },
     "metadata": {
      "needs_background": "light"
     },
     "output_type": "display_data"
    }
   ],
   "source": [
    "# Tirée du TP1\n",
    "image = x_train[18]\n",
    "matrix_image = np.reshape(image, (28,28))\n",
    "plt.imshow(matrix_image, cmap='gray')\n",
    "plt.show()\n",
    "\n",
    "for i in range(len(x_train)):\n",
    "    for j in range(len(x_train[0])):\n",
    "        if x_train[i][j] != 0:\n",
    "            x_train[i][j] = round(int(x_train[i][j])/255.0)"
   ]
  },
  {
   "cell_type": "code",
   "execution_count": 4,
   "id": "81309974",
   "metadata": {},
   "outputs": [
    {
     "data": {
      "image/png": "[encoded data removed]",
      "text/plain": [
       "<Figure size 432x288 with 1 Axes>"
      ]
     },
     "metadata": {
      "needs_background": "light"
     },
     "output_type": "display_data"
    },
    {
     "data": {
      "image/png": "[encoded data removed]",
      "text/plain": [
       "<Figure size 432x288 with 1 Axes>"
      ]
     },
     "metadata": {
      "needs_background": "light"
     },
     "output_type": "display_data"
    }
   ],
   "source": [
    "# On transforme l'image afin que les pixels soient uniquement des valeurs 0 ou 1.\n",
    "image = x_train[2]\n",
    "matrix_image = np.reshape(image, (28,28))\n",
    "plt.imshow(matrix_image, cmap='gray')\n",
    "plt.show()\n",
    "image = x_train[9]\n",
    "matrix_image = np.reshape(image, (28,28))\n",
    "plt.imshow(matrix_image, cmap='gray')\n",
    "plt.show()"
   ]
  },
  {
   "cell_type": "code",
   "execution_count": 5,
   "id": "eb8d420a",
   "metadata": {},
   "outputs": [
    {
     "data": {
      "image/png": "[encoded data removed]",
      "text/plain": [
       "<Figure size 432x288 with 1 Axes>"
      ]
     },
     "metadata": {
      "needs_background": "light"
     },
     "output_type": "display_data"
    },
    {
     "name": "stdout",
     "output_type": "stream",
     "text": [
      "Nombre de pixels blancs: 61\n",
      "Nombre de pixels noirs: 71\n",
      "Nombre de pixels gris: 652\n"
     ]
    }
   ],
   "source": [
    "# Début de la mesure de dissimilarité entre deux images:\n",
    "\n",
    "# ÉTAPE 1: Créer une image qui est la différence entre les deux images\n",
    "# -1 sont représentés par des pixels noirs, 1: blanc et 0: gris\n",
    "\n",
    "image = x_train[2] - x_train[4]\n",
    "matrix_image = np.reshape(image, (28,28))\n",
    "plt.imshow(matrix_image, cmap='gray')\n",
    "plt.show()\n",
    "\n",
    "ones = np.count_nonzero(image == 1)\n",
    "ones_neg = np.count_nonzero(image == -1)\n",
    "zeros = np.count_nonzero(image == 0)\n",
    "\n",
    "print(f'Nombre de pixels blancs: {ones}')\n",
    "print(f'Nombre de pixels noirs: {ones_neg}')\n",
    "print(f'Nombre de pixels gris: {zeros}')"
   ]
  },
  {
   "cell_type": "code",
   "execution_count": 6,
   "id": "994e2b01",
   "metadata": {},
   "outputs": [],
   "source": [
    "# white_matrix: matrice des pixels blancs selon leur position (28x28). Au lieu d'avoir des valeurs qui sont uniquement des \"1\", \n",
    "# ce dernier est remplacé par sa position en colonne.\n",
    "\n",
    "# Par exemple: supposons qu'il existe un pixel blanc à la 7e ligne et à la 18e colonne.\n",
    "# white_matrix va contenir donc la valeur \"18\" à la position (7,18).\n",
    "\n",
    "# Même principe pour dark_matrix, mais pour les pixels noirs.\n",
    "\n",
    "white_matrix = np.zeros((28,28))\n",
    "dark_matrix = np.zeros((28,28))\n",
    "\n",
    "for i in range(matrix_image.shape[0]):\n",
    "    for j in range(matrix_image.shape[0]):\n",
    "        if matrix_image[i][j] == 1:\n",
    "            white_matrix[i][j] = j\n",
    "        elif matrix_image[i][j] == -1:\n",
    "            dark_matrix[i][j] = j"
   ]
  },
  {
   "cell_type": "code",
   "execution_count": 7,
   "id": "2fc59912",
   "metadata": {},
   "outputs": [
    {
     "name": "stdout",
     "output_type": "stream",
     "text": [
      "[ 0  0  0  0  0 21 21 20  5  5  5 12 12 11 17  6  7 18 18 18 18 18 18 18\n",
      " 18  0  0  0]\n",
      "[ 0  0  0  0  0  0  0 15 16 13 12 11 10 12  8 16 14 14 14 14 14 14 14 14\n",
      " 16 16 16  0]\n"
     ]
    },
    {
     "name": "stderr",
     "output_type": "stream",
     "text": [
      "C:\\Users\\guomu\\AppData\\Local\\Programs\\Python\\Python39\\lib\\site-packages\\numpy\\core\\fromnumeric.py:3440: RuntimeWarning: Mean of empty slice.\n",
      "  return _methods._mean(a, axis=axis, dtype=dtype,\n",
      "C:\\Users\\guomu\\AppData\\Local\\Programs\\Python\\Python39\\lib\\site-packages\\numpy\\core\\_methods.py:189: RuntimeWarning: invalid value encountered in double_scalars\n",
      "  ret = ret.dtype.type(ret / rcount)\n"
     ]
    }
   ],
   "source": [
    "# On va comparer à quel point les pixels blancs sont loins aux pixels noirs pour CHAQUE ligne.\n",
    "# La complexité augmentera en raison du nombre de combinaisons de distances à calculer.\n",
    "\n",
    "# Tentative: pour CHAQUE ligne, on prend un seul pixel noir et blanc qui représentent la majorité des pixels noirs et blancs.\n",
    "# Ici, on choisit de prendre la médiane.\n",
    "\n",
    "white_array = np.zeros(28)\n",
    "dark_array = np.zeros(28)\n",
    "\n",
    "white_median = 0\n",
    "dark_median = 0\n",
    "\n",
    "for i in range(matrix_image.shape[0]):\n",
    "    white_median = np.median(white_matrix[i,:][white_matrix[i,:] != 0])\n",
    "    white_array[i] = white_median\n",
    "    \n",
    "    dark_median = np.median(dark_matrix[i,:][dark_matrix[i,:] != 0])\n",
    "    dark_array[i] = dark_median\n",
    "\n",
    "white_array[np.isnan(white_array)] = 0\n",
    "white_array = np.round(white_array).astype(int)\n",
    "dark_array[np.isnan(dark_array)] = 0\n",
    "dark_array = np.round(dark_array).astype(int)\n",
    "\n",
    "# Résumé chaque ligne par la médiane\n",
    "print(white_array)\n",
    "print(dark_array)"
   ]
  },
  {
   "cell_type": "code",
   "execution_count": 8,
   "id": "1569239a",
   "metadata": {},
   "outputs": [],
   "source": [
    "simple_matrix = np.zeros((28,28))\n",
    "\n",
    "for i in range(white_array.shape[0]):\n",
    "    if white_array[i] != 0:\n",
    "        simple_matrix[i][white_array[i]] = 1\n",
    "    if dark_array[i] != 0:\n",
    "        simple_matrix[i][dark_array[i]] = -1  "
   ]
  },
  {
   "cell_type": "code",
   "execution_count": 9,
   "id": "8e49fac5",
   "metadata": {},
   "outputs": [
    {
     "data": {
      "image/png": "[encoded data removed]",
      "text/plain": [
       "<Figure size 432x288 with 1 Axes>"
      ]
     },
     "metadata": {
      "needs_background": "light"
     },
     "output_type": "display_data"
    }
   ],
   "source": [
    "# Simplfication de l'image en conservant uniquement les pixels préservant la forme générale\n",
    "plt.imshow(simple_matrix, cmap='gray')\n",
    "plt.show()"
   ]
  },
  {
   "cell_type": "code",
   "execution_count": 10,
   "id": "e3c176a8",
   "metadata": {},
   "outputs": [
    {
     "name": "stdout",
     "output_type": "stream",
     "text": [
      "95\n"
     ]
    }
   ],
   "source": [
    "# CAS #1: Si on a un pixel noir et blanc sur une ligne. On calcule la distance entre les deux.\n",
    "#         Autrement dit, si à la 7e ligne, pixel blanc se trouve à la 23e colonne et pixel noir se trouve à la 25e colonne,\n",
    "#         on aura une dissimilarité de 2 pixels à la 7e ligne.\n",
    "# CAS #2: Si on a un seul type de pixel sur une ligne (blanc OU noir). On incrémente la dissimilarité de 1 pour dire qu'il\n",
    "#         existe un pixel supplémentaire.\n",
    "\n",
    "# Dissimilarité = Sum(i) pour 1 à 28 abs{xi - yi} où xi = 1 si yi = 0, yi = 1 si xi = 0\n",
    "\n",
    "for i in range(white_array.shape[0]):\n",
    "    if white_array[i] == 0 and dark_array[i] != 0:\n",
    "        dark_array[i] = 1\n",
    "    elif white_array[i] != 0 and dark_array[i] == 0:\n",
    "        white_array[i] = 1\n",
    "\n",
    "dissimilarity = np.sum(abs(white_array - dark_array))\n",
    "print(dissimilarity)"
   ]
  },
  {
   "cell_type": "code",
   "execution_count": 11,
   "id": "06190ebc",
   "metadata": {},
   "outputs": [],
   "source": [
    "# Notion de similarité:\n",
    "# Nombre de pixels entre les pixels blancs et noirs et nombre supplémentaire de pixels"
   ]
  },
  {
   "cell_type": "code",
   "execution_count": 7,
   "id": "f42c6b4f",
   "metadata": {
    "scrolled": true
   },
   "outputs": [],
   "source": [
    "# Copiés de l'exemple pour le TP1\n",
    "\n",
    "#classification\n",
    "from sklearn.neighbors import KNeighborsClassifier #k-plus proches voisins\n",
    "\n",
    "#Partitionnement\n",
    "from sklearn.cluster import AgglomerativeClustering #Regroupement hiérarchique (Paritionnement binaire)\n",
    "from pyclustering.cluster.kmedoids import kmedoids\n",
    "\n",
    "#réduction de dimensionnalité\n",
    "from sklearn.decomposition import KernelPCA #ce n'est pas PCoA mais on peut l'utiliser pour que le résultat soit le même\n",
    "from sklearn.manifold import Isomap\n",
    "\n",
    "#score silhouette\n",
    "from pyclustering.cluster.silhouette import silhouette"
   ]
  },
  {
   "cell_type": "code",
   "execution_count": 8,
   "id": "dca04197",
   "metadata": {},
   "outputs": [],
   "source": [
    "# KMedoids\n",
    "data_points = []\n",
    "\n",
    "# Should put 10 when using all data\n",
    "initial_medoids = [1,2]\n",
    "\n",
    "kmedoids_instance = kmedoids(x_train,initial_medoids,nclusters=2)\n",
    "\n",
    "kmedoids_instance.process()\n",
    "clusters = kmedoids_instance.get_clusters()\n",
    "medoids = kmedoids_instance.get_medoids()"
   ]
  },
  {
   "cell_type": "code",
   "execution_count": 9,
   "id": "7c230d8c",
   "metadata": {},
   "outputs": [
    {
     "name": "stdout",
     "output_type": "stream",
     "text": [
      "Medoides:\n",
      "10\n",
      "19\n",
      "\n",
      "Assignation aux groupes:\n",
      "label 0:　0\n",
      "label 0:　1\n",
      "label 0:　6\n",
      "label 0:　7\n",
      "label 0:　10\n",
      "label 0:　12\n",
      "label 0:　16\n",
      "label 1:　2\n",
      "label 1:　3\n",
      "label 1:　4\n",
      "label 1:　5\n",
      "label 1:　8\n",
      "label 1:　9\n",
      "label 1:　11\n",
      "label 1:　13\n",
      "label 1:　14\n",
      "label 1:　15\n",
      "label 1:　17\n",
      "label 1:　18\n",
      "label 1:　19\n"
     ]
    }
   ],
   "source": [
    "print('Medoides:')\n",
    "for i in medoids:\n",
    "    print(i)\n",
    "    \n",
    "print('\\nAssignation aux groupes:')\n",
    "for label, cluster in enumerate(clusters):\n",
    "    for i in cluster:\n",
    "        print('label {0}:　{1}'.format(label, i))"
   ]
  },
  {
   "cell_type": "code",
   "execution_count": 37,
   "id": "10a7b14b",
   "metadata": {},
   "outputs": [
    {
     "name": "stdout",
     "output_type": "stream",
     "text": [
      "0.06793608827954209\n"
     ]
    }
   ],
   "source": [
    "# Score silhouette\n",
    "print(np.nanmean(silhouette(x_train, clusters).process().get_score()))"
   ]
  },
  {
   "cell_type": "code",
   "execution_count": 14,
   "id": "be450faa",
   "metadata": {},
   "outputs": [
    {
     "name": "stdout",
     "output_type": "stream",
     "text": [
      "0.2776966837886871\n"
     ]
    }
   ],
   "source": [
    "#V measure\n",
    "from sklearn.metrics import v_measure_score\n",
    "labels_pred = np.zeros(len(x_train))\n",
    "\n",
    "# Assume qu'on associe à chaque cluster le \"vrai\" label le plus populaire\n",
    "# Pourrait fusionner certains clusters par ce processus\n",
    "for label, cluster in enumerate(clusters):\n",
    "    counter = np.zeros(10)\n",
    "    for i in cluster:        \n",
    "        #print('label {0}:　{1}'.format(label, i))\n",
    "        counter[y_train[i]] += 1\n",
    "        \n",
    "    max = np.argmax(counter)\n",
    "    for i in cluster:\n",
    "        labels_pred[i] = max        \n",
    "\n",
    "print(v_measure_score(y_train, labels_pred))"
   ]
  },
  {
   "cell_type": "code",
   "execution_count": 39,
   "id": "cad88e13",
   "metadata": {},
   "outputs": [
    {
     "name": "stdout",
     "output_type": "stream",
     "text": [
      "0.63\n",
      "Meilleur k : 9\n"
     ]
    }
   ],
   "source": [
    "from sklearn.model_selection import train_test_split\n",
    "\n",
    "# K-neighbors\n",
    "\n",
    "# Split to train and val (to select best k)\n",
    "knn_x_train, knn_x_val, knn_y_train, knn_y_val = train_test_split(x_train, y_train, test_size=0.2, random_state=0)\n",
    "\n",
    "# Test with k from 1 to 10\n",
    "score_val = np.zeros(10)\n",
    "for k in np.arange(1, 10):\n",
    "    knn = KNeighborsClassifier(n_neighbors=k, metric = \"euclidean\")\n",
    "    knn.fit(knn_x_train, knn_y_train)\n",
    "    score_val[k-1] = knn.score(knn_x_val, knn_y_val)\n",
    "    \n",
    "\n",
    "best_k = score_val.argmax() + 1;\n",
    "knn = KNeighborsClassifier(n_neighbors=best_k, metric=\"euclidean\")\n",
    "knn.fit(knn_x_train, knn_y_train)\n",
    "\n",
    "print(knn.score(x_test,y_test))\n",
    "print(\"Meilleur k : \" + str(best_k))"
   ]
  },
  {
   "cell_type": "code",
   "execution_count": null,
   "id": "90cfdbbe",
   "metadata": {},
   "outputs": [],
   "source": []
  }
 ],
 "metadata": {
  "kernelspec": {
   "display_name": "Python 3 (ipykernel)",
   "language": "python",
   "name": "python3"
  },
  "language_info": {
   "codemirror_mode": {
    "name": "ipython",
    "version": 3
   },
   "file_extension": ".py",
   "mimetype": "text/x-python",
   "name": "python",
   "nbconvert_exporter": "python",
   "pygments_lexer": "ipython3",
   "version": "3.9.7"
  }
 },
 "nbformat": 4,
 "nbformat_minor": 5
}
